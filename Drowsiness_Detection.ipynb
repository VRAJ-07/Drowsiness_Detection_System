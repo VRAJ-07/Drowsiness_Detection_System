{
 "cells": [
  {
   "cell_type": "code",
   "execution_count": 1,
   "id": "bb96351b",
   "metadata": {},
   "outputs": [],
   "source": [
    "import cv2\n",
    "import dlib\n",
    "import math\n",
    "\n",
    "def get_eye_aspect_ratio(eye):\n",
    "    A = math.sqrt((eye[1][0] - eye[5][0])**2 + (eye[1][1] - eye[5][1])**2)\n",
    "    B = math.sqrt((eye[2][0] - eye[4][0])**2 + (eye[2][1] - eye[4][1])**2)\n",
    "    C = math.sqrt((eye[0][0] - eye[3][0])**2 + (eye[0][1] - eye[3][1])**2)\n",
    "    ear = (A + B) / (2.0 * C)\n",
    "    return ear\n",
    "\n",
    "def check_drowsiness(landmarks):\n",
    "    left_eye = landmarks[36:42]\n",
    "    right_eye = landmarks[42:48]\n",
    "    left_ear = get_eye_aspect_ratio(left_eye)\n",
    "    right_ear = get_eye_aspect_ratio(right_eye)\n",
    "    avg_ear = (left_ear + right_ear) / 2.0\n",
    "    threshold = 0.25\n",
    "    return avg_ear < threshold\n",
    "\n",
    "detector = dlib.get_frontal_face_detector()\n",
    "predictor = dlib.shape_predictor(\"shape_predictor_68_face_landmarks.dat\")\n",
    "\n",
    "cap = cv2.VideoCapture(0)\n",
    "\n",
    "while True:\n",
    "    ret, frame = cap.read()\n",
    "    gray = cv2.cvtColor(frame, cv2.COLOR_BGR2GRAY)\n",
    "    faces = detector(gray)\n",
    "\n",
    "    for face in faces:\n",
    "        landmarks = predictor(gray, face)\n",
    "        landmarks_list = [(p.x, p.y) for p in landmarks.parts()]\n",
    "        drowsy = check_drowsiness(landmarks_list)\n",
    "\n",
    "        # Get the face bounding box coordinates\n",
    "        (x, y, w, h) = (face.left(), face.top(), face.width(), face.height())\n",
    "\n",
    "        # Draw a red box if drowsy, otherwise draw a green box\n",
    "        color = (0, 0, 255) if drowsy else (0, 255, 0)\n",
    "        cv2.rectangle(frame, (x, y), (x+w, y+h), color, 2)\n",
    "\n",
    "        if drowsy:\n",
    "            cv2.putText(frame, \"Drowsy\", (x, y - 10), cv2.FONT_HERSHEY_SIMPLEX, 0.5, (0, 0, 255), 2)\n",
    "        else:\n",
    "            cv2.putText(frame, \"Awake\", (x, y - 10), cv2.FONT_HERSHEY_SIMPLEX, 0.5, (0, 255, 0), 2)\n",
    "\n",
    "    cv2.imshow(\"Drowsiness Detection\", frame)\n",
    "\n",
    "    if cv2.waitKey(1) & 0xFF == ord('q'):\n",
    "        break\n",
    "\n",
    "cap.release()\n",
    "cv2.destroyAllWindows()\n"
   ]
  },
  {
   "cell_type": "code",
   "execution_count": null,
   "id": "804342b9",
   "metadata": {},
   "outputs": [],
   "source": []
  }
 ],
 "metadata": {
  "kernelspec": {
   "display_name": "Python 3 (ipykernel)",
   "language": "python",
   "name": "python3"
  },
  "language_info": {
   "codemirror_mode": {
    "name": "ipython",
    "version": 3
   },
   "file_extension": ".py",
   "mimetype": "text/x-python",
   "name": "python",
   "nbconvert_exporter": "python",
   "pygments_lexer": "ipython3",
   "version": "3.9.13"
  }
 },
 "nbformat": 4,
 "nbformat_minor": 5
}
